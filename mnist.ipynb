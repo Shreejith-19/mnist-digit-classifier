{
 "cells": [
  {
   "cell_type": "markdown",
   "id": "ad681696",
   "metadata": {},
   "source": [
    "**Imports**"
   ]
  },
  {
   "cell_type": "code",
   "execution_count": 30,
   "id": "6c40c296",
   "metadata": {},
   "outputs": [],
   "source": [
    "import numpy as np\n",
    "import pandas as pd\n",
    "import matplotlib.pyplot as plt\n",
    "import tensorflow as tf\n",
    "import math"
   ]
  },
  {
   "cell_type": "markdown",
   "id": "20979134",
   "metadata": {},
   "source": [
    "**Helper Functions**"
   ]
  },
  {
   "cell_type": "code",
   "execution_count": null,
   "id": "01a3ddc2",
   "metadata": {},
   "outputs": [],
   "source": [
    "class Utils:\n",
    "    def __init__(self):\n",
    "        self.visualize = Visualize()#class \"Visualize\" is now a attribute of class \"Utils\"\n",
    "        \n",
    "class Visualize:\n",
    "        def pixels_to_image(self,df_array,indx):\n",
    "            #this style of doctring commentin is called google-style doctring\n",
    "            \"\"\"\n",
    "            Displays 28x28 grayscale image from raw datframe\n",
    "\n",
    "            Args:\n",
    "                df_array(panda dataframe): data of labels and features\n",
    "            \n",
    "            Returns:\n",
    "                None\n",
    "            \"\"\"\n",
    "            image = df_array.drop(columns = [\"label\"]).iloc[indx].to_numpy().reshape(28,28)\n",
    "            plt.imshow(image,cmap = \"gray\")\n",
    "            plt.axis(\"off\")\n",
    "            plt.tight_layout()\n",
    "            plt.show()\n",
    "        def display_images(self,df_array,number_of_images):\n",
    "            \"\"\"\n",
    "            diplays the first n-images in the dataset from raw data\n",
    "\n",
    "            Args:\n",
    "                df_array(pandas array): data of labels and features\n",
    "                number_of_images(int): number of images to be displayed\n",
    "            \n",
    "            Returns:\n",
    "                None\n",
    "            \"\"\"\n",
    "            cols = 5\n",
    "            rows = math.ceil(number_of_images/cols)\n",
    "            _, ax = plt.subplots(rows,cols)\n",
    "            ax = ax.flatten()\n",
    "            df_features = df_array.drop(columns = [\"label\"])\n",
    "\n",
    "            for i in range(number_of_images):\n",
    "                image = df_features.iloc[i].to_numpy().reshape(28,28)\n",
    "                ax[i].imshow(image, cmap = \"gray\")\n",
    "                ax[i].axis(\"off\")\n",
    "            plt.tight_layout()\n",
    "            plt.show()\n",
    "    "
   ]
  },
  {
   "cell_type": "markdown",
   "id": "4b2fe7ad",
   "metadata": {},
   "source": [
    "**About the Data** \n",
    "<pre>    mnist_train.csv contains pixel intensity data of 60,000 28x28 grayscale images  \n",
    "    column represents intensity of  pixels  \n",
    "    row represent 28x28 pixel intensities of the image flattened into a row \n",
    "</pre> "
   ]
  },
  {
   "cell_type": "code",
   "execution_count": 45,
   "id": "57319e5c",
   "metadata": {},
   "outputs": [
    {
     "data": {
      "image/png": "[encoded data removed]",
      "text/plain": [
       "<Figure size 640x480 with 20 Axes>"
      ]
     },
     "metadata": {},
     "output_type": "display_data"
    }
   ],
   "source": [
    "df_train = pd.read_csv(\"data\\mnist_train.csv\")\n",
    "df_test = pd.read_csv(\"data\\mnist_test.csv\")\n",
    "utils = Utils()\n",
    "utils.visualize.display_images(df_train, 20)"
   ]
  },
  {
   "cell_type": "code",
   "execution_count": null,
   "id": "a051eb51",
   "metadata": {},
   "outputs": [],
   "source": []
  }
 ],
 "metadata": {
  "kernelspec": {
   "display_name": "venv",
   "language": "python",
   "name": "python3"
  },
  "language_info": {
   "codemirror_mode": {
    "name": "ipython",
    "version": 3
   },
   "file_extension": ".py",
   "mimetype": "text/x-python",
   "name": "python",
   "nbconvert_exporter": "python",
   "pygments_lexer": "ipython3",
   "version": "3.12.0"
  }
 },
 "nbformat": 4,
 "nbformat_minor": 5
}
